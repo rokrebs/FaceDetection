{
 "cells": [
  {
   "cell_type": "markdown",
   "id": "5a3d5934-9e9a-4321-be8a-4f4cdb8004ba",
   "metadata": {},
   "source": [
    "# 1. Preparing images taken with phone"
   ]
  },
  {
   "cell_type": "code",
   "execution_count": 4,
   "id": "607f641f-6b77-4453-b9bd-3ae6c4f02059",
   "metadata": {},
   "outputs": [],
   "source": [
    "import os\n",
    "\n",
    "folder_path = \"images\"\n",
    "counter = 1\n",
    "\n",
    "for filename in os.listdir(folder_path):\n",
    "    if filename.endswith(\".jpg\") or filename.endswith(\".jpeg\"):\n",
    "        extension = os.path.splitext(filename)[1]\n",
    "        new_filename = f\"{counter}{extension}\"\n",
    "        counter += 1\n",
    "        old_filepath = os.path.join(folder_path, filename)\n",
    "        new_filepath = os.path.join(folder_path, new_filename)\n",
    "        os.rename(old_filepath, new_filepath)\n"
   ]
  },
  {
   "cell_type": "markdown",
   "id": "d6f672d8-e22f-496f-b3cf-cb69d2d27eff",
   "metadata": {},
   "source": [
    "# 2. Creating images with built in camera\n",
    "\n",
    "## 2.1 Installing dependencies"
   ]
  },
  {
   "cell_type": "code",
   "execution_count": 1,
   "id": "fed2f720-8eb7-42e3-92c4-481d57b16255",
   "metadata": {},
   "outputs": [],
   "source": [
    "!pip install opencv-python\n",
    "!pip install tensorflow \n",
    "!pip install split-folders\n",
    "from IPython import display\n",
    "display.clear_output()"
   ]
  },
  {
   "cell_type": "markdown",
   "id": "94be6149-f55c-4d1f-af61-7527e0822f49",
   "metadata": {},
   "source": [
    "## 2.2 Collecting imagines with OpenCV"
   ]
  },
  {
   "cell_type": "code",
   "execution_count": 2,
   "id": "625e9c84-a17c-4900-920d-352ff8d2583b",
   "metadata": {},
   "outputs": [],
   "source": [
    "import os\n",
    "import time\n",
    "import uuid\n",
    "import cv2\n",
    "from IPython import display\n",
    "\n",
    "IMAGES_PATH = os.path.join('data', 'images')\n",
    "NUMBER_IMAGES = 30\n",
    "CAPTURE_INTERVAL = 0.5\n",
    "\n",
    "# Create the directory to store the images if it doesn't exist\n",
    "os.makedirs(IMAGES_PATH, exist_ok=True)\n",
    "\n",
    "cap = cv2.VideoCapture(0)  # Use 0 for the default webcam\n",
    "\n",
    "# Capture and save the images\n",
    "for img_num in range(1, NUMBER_IMAGES+1):\n",
    "    ret, frame = cap.read()\n",
    "    if not ret:\n",
    "        print('Failed to capture image')\n",
    "        continue\n",
    "\n",
    "    img_name = str(uuid.uuid1()) + '.jpg'\n",
    "    img_path = os.path.join(IMAGES_PATH, img_name)\n",
    "    cv2.imwrite(img_path, frame)\n",
    "\n",
    "    cv2.imshow('Webcam', frame)\n",
    "    if cv2.waitKey(1) & 0xFF == ord('q'):\n",
    "        break\n",
    "\n",
    "    time.sleep(CAPTURE_INTERVAL)\n",
    "\n",
    "cap.release()\n",
    "cv2.destroyAllWindows()\n",
    "\n",
    "#!labelme "
   ]
  }
 ],
 "metadata": {
  "kernelspec": {
   "display_name": "Python 3 (ipykernel)",
   "language": "python",
   "name": "python3"
  },
  "language_info": {
   "codemirror_mode": {
    "name": "ipython",
    "version": 3
   },
   "file_extension": ".py",
   "mimetype": "text/x-python",
   "name": "python",
   "nbconvert_exporter": "python",
   "pygments_lexer": "ipython3",
   "version": "3.11.3"
  }
 },
 "nbformat": 4,
 "nbformat_minor": 5
}
